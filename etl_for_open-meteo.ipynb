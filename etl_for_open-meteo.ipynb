{
 "cells": [
  {
   "cell_type": "markdown",
   "id": "0e933d85",
   "metadata": {},
   "source": [
    "В дополнительных заданиях можно реализовывать логику только частично, тогда\n",
    "баллы будут снижены. На оценку за каждое задание также влияет корректность шагов и\n",
    "качество кода.\n",
    "Задания под * не являются обязательными, но будут учитываться при отборе\n",
    "участников.\n",
    "\n",
    "Рекомендации к оборудованию и ПО\n",
    "• Для эффективной работы тебе потребуется ПК / ноутбук.\n",
    "• Если с работой программы возникнут проблемы, пиши на shift_support@cft.ru\n",
    "• Установи и подготовь к работе ПО: Docker, Jupyter Notebook, IDE PyCharm, IntelliJIDEA\n",
    "\n",
    "Задание\n",
    "Необходимо реализовать ETL1 пайплайн (В данном случае приложение на Scala, Java\n",
    "или Python), которое загружает исходные данные, трансформирует их, а затем выгружает)\n",
    "для выгрузки данных прогнозов погоды.\n",
    "Для получения данных будет использован https://open-meteo.com/\n",
    "\n",
    "Пример запроса данных по API open-meteo:\n",
    "https://api.openmeteo.com/v1/forecast?latitude=55.0344&longitude=82.9434&daily=sunrise,sunset,daylight_duration&hourly=temperature_2m,relative_humidity_2m,dew_point_2m,apparent_temperature,temperature_80m,temperature_120m,wind_speed_10m,wind_speed_80m,wind_direction_10m,wind_direction_80m,visibility,evapotranspiration,weather_code,soil_temperature_0cm,soil_temperature_6cm,rain,showers,snowfall&timezone=auto&timeformat=unixtime&wind_speed_unit=kn&temperature_unit=fahrenheit&precipitation_unit=inch&start_date=2025-05-16&end_date=2025-05-30\n",
    "\n",
    "Описание данных JSON в приложении, таблица \"Описание данных JSON\""
   ]
  },
  {
   "cell_type": "markdown",
   "id": "5b9f961e",
   "metadata": {},
   "source": [
    "Задание 1: Наивная реализация\n",
    "Реализовать приложение, которое будет делать следующее:\n",
    "1. считывать json в формате API open-meteo, json взять из запроса в\n",
    "\"Пример запроса данных по API open-meteo\"\n",
    "2. Выполнять трансформации данных, которые на Ваш взгляд необходимы для\n",
    "получения данных в формате для выгрузки - т.е в формате, как в таблице\n",
    "\"Итоговая таблица\" из приложения.\n",
    "3. Сохранить данные в csv. Поля, необходимые в csv и их описание представлены в\n",
    "таблице \"Итоговая таблица\" из приложения."
   ]
  },
  {
   "cell_type": "code",
   "execution_count": null,
   "id": "1781699e",
   "metadata": {},
   "outputs": [
    {
     "name": "stdout",
     "output_type": "stream",
     "text": [
      "{'latitude': 55.0, 'longitude': 83.0, 'generationtime_ms': 0.1811981201171875, 'utc_offset_seconds': 25200, 'timezone': 'Asia/Novosibirsk', 'timezone_abbreviation': 'GMT+7', 'elevation': 135.0, 'hourly_units': {'time': 'iso8601', 'temperature_2m': '°C', 'relative_humidity_2m': '%', 'dew_point_2m': '°C', 'apparent_temperature': '°C', 'temperature_80m': '°C', 'temperature_120m': '°C', 'wind_speed_10m': 'km/h', 'wind_speed_80m': 'km/h', 'wind_direction_10m': '°', 'wind_direction_80m': '°', 'visibility': 'm', 'evapotranspiration': 'mm', 'weather_code': 'wmo code', 'soil_temperature_0cm': '°C', 'soil_temperature_6cm': '°C', 'rain': 'mm', 'showers': 'mm', 'snowfall': 'cm'}, 'hourly': {'time': ['2025-05-30T00:00', '2025-05-30T01:00', '2025-05-30T02:00', '2025-05-30T03:00', '2025-05-30T04:00', '2025-05-30T05:00', '2025-05-30T06:00', '2025-05-30T07:00', '2025-05-30T08:00', '2025-05-30T09:00', '2025-05-30T10:00', '2025-05-30T11:00', '2025-05-30T12:00', '2025-05-30T13:00', '2025-05-30T14:00', '2025-05-30T15:00', '2025-05-30T16:00', '2025-05-30T17:00', '2025-05-30T18:00', '2025-05-30T19:00', '2025-05-30T20:00', '2025-05-30T21:00', '2025-05-30T22:00', '2025-05-30T23:00'], 'temperature_2m': [9.6, 8.4, 7.9, 7.4, 7.0, 6.6, 6.8, 9.1, 9.8, 10.6, 11.8, 13.6, 15.5, 16.7, 18.3, 17.6, 18.5, 19.3, 18.9, 19.7, 19.4, 18.6, 17.4, 16.5], 'relative_humidity_2m': [66, 73, 75, 77, 80, 83, 84, 76, 67, 62, 60, 57, 52, 45, 41, 50, 49, 45, 47, 49, 50, 54, 60, 63], 'dew_point_2m': [3.5, 3.8, 3.7, 3.6, 3.7, 3.9, 4.3, 5.0, 3.9, 3.6, 4.2, 5.2, 5.7, 4.7, 4.8, 7.0, 7.5, 7.1, 7.3, 8.6, 8.7, 9.1, 9.5, 9.4], 'apparent_temperature': [7.4, 6.2, 5.7, 5.2, 4.9, 4.6, 4.8, 6.9, 7.0, 7.6, 8.9, 10.7, 13.0, 13.3, 15.8, 14.5, 15.5, 16.0, 15.7, 17.4, 17.3, 17.1, 16.0, 15.4], 'temperature_80m': [11.2, 10.0, 9.6, 9.0, 8.6, 8.3, 8.0, 8.6, 8.8, 9.2, 10.1, 11.4, 13.3, 14.4, 15.9, 15.8, 16.5, 17.5, 17.5, 18.5, 18.7, 18.4, 17.5, 16.7], 'temperature_120m': [11.1, 10.0, 9.7, 9.2, 8.9, 8.6, 8.3, 8.2, 8.1, 8.5, 9.3, 10.7, 12.5, 13.7, 15.1, 15.0, 15.7, 16.7, 16.8, 17.8, 18.0, 17.9, 17.3, 16.9], 'wind_speed_10m': [4.2, 4.6, 4.4, 4.1, 4.1, 4.1, 4.4, 6.7, 8.8, 9.8, 10.1, 12.1, 14.0, 14.5, 16.2, 15.9, 15.8, 17.3, 16.9, 13.0, 11.7, 8.7, 8.3, 6.1], 'wind_speed_80m': [15.9, 16.3, 16.5, 15.0, 14.7, 15.0, 16.1, 17.1, 17.5, 17.4, 16.1, 19.7, 24.1, 24.4, 27.4, 29.7, 29.2, 32.4, 33.8, 25.9, 25.3, 21.6, 22.7, 19.1], 'wind_direction_10m': [239, 225, 235, 232, 218, 218, 215, 216, 235, 242, 243, 247, 269, 251, 266, 275, 270, 269, 269, 267, 261, 265, 268, 270], 'wind_direction_80m': [257, 248, 250, 249, 242, 235, 231, 226, 238, 243, 243, 249, 270, 254, 266, 277, 271, 271, 271, 269, 265, 268, 274, 282], 'visibility': [24140.0, 24140.0, 24140.0, 24140.0, 24140.0, 24140.0, 24140.0, 24140.0, 24140.0, 24140.0, 24140.0, 24140.0, 24140.0, 24140.0, 16900.0, 12840.0, 10800.0, 15420.0, 24140.0, 21600.0, 24140.0, 23960.0, 24140.0, 24140.0], 'evapotranspiration': [0.01, 0.01, 0.01, 0.01, 0.01, -0.0, -0.0, 0.01, 0.03, 0.06, 0.09, 0.12, 0.16, 0.16, 0.16, 0.14, 0.13, 0.14, 0.13, 0.11, 0.09, 0.06, 0.04, 0.03], 'weather_code': [3, 2, 2, 2, 2, 2, 3, 3, 3, 3, 3, 3, 3, 3, 3, 2, 2, 3, 3, 1, 2, 2, 2, 3], 'soil_temperature_0cm': [8.0, 6.9, 6.2, 6.0, 5.5, 5.1, 6.5, 9.4, 10.6, 12.3, 14.5, 17.8, 18.8, 20.7, 21.6, 18.8, 20.8, 21.0, 19.3, 19.6, 18.1, 16.6, 15.3, 14.5], 'soil_temperature_6cm': [9.1, 8.2, 7.7, 7.3, 6.9, 6.6, 6.4, 7.6, 8.3, 9.3, 10.4, 11.9, 13.6, 14.9, 16.3, 16.4, 16.8, 17.2, 17.2, 17.3, 17.0, 16.4, 15.6, 14.8], 'rain': [0.0, 0.0, 0.0, 0.0, 0.0, 0.0, 0.0, 0.0, 0.0, 0.0, 0.0, 0.0, 0.0, 0.0, 0.0, 0.0, 0.0, 0.0, 0.0, 0.0, 0.0, 0.0, 0.0, 0.0], 'showers': [0.0, 0.0, 0.0, 0.0, 0.0, 0.0, 0.0, 0.0, 0.0, 0.0, 0.0, 0.0, 0.0, 0.0, 0.0, 0.0, 0.1, 0.1, 0.1, 0.0, 0.0, 0.0, 0.0, 0.0], 'snowfall': [0.0, 0.0, 0.0, 0.0, 0.0, 0.0, 0.0, 0.0, 0.0, 0.0, 0.0, 0.0, 0.0, 0.0, 0.0, 0.0, 0.0, 0.0, 0.0, 0.0, 0.0, 0.0, 0.0, 0.0]}, 'daily_units': {'time': 'iso8601', 'sunrise': 'iso8601', 'sunset': 'iso8601', 'daylight_duration': 's'}, 'daily': {'time': ['2025-05-30'], 'sunrise': ['2025-05-30T04:58'], 'sunset': ['2025-05-30T21:52'], 'daylight_duration': [60844.73]}}\n",
      "Status Code: 200\n",
      "Response Text: {\"latitude\":55.0,\"longitude\":83.0,\"generationtime_ms\":0.1811981201171875,\"utc_offset_seconds\":25200,\"timezone\":\"Asia/Novosibirsk\",\"timezone_abbreviation\":\"GMT+7\",\"elevation\":135.0,\"hourly_units\":{\"tim\n"
     ]
    }
   ],
   "source": [
    "import requests\n",
    "import json\n",
    "\n",
    "base_url = \"https://api.open-meteo.com/v1/forecast\"\n",
    "params = {\n",
    "    \"latitude\": 55.0344,\n",
    "    \"longitude\": 82.9434,\n",
    "    \"daily\": \"sunrise,sunset,daylight_duration\",\n",
    "    \"hourly\": (        \n",
    "        \"temperature_2m,relative_humidity_2m,dew_point_2m,\"\n",
    "        \"apparent_temperature,temperature_80m,temperature_120m,\"\n",
    "        \"wind_speed_10m,wind_speed_80m,wind_direction_10m,\"\n",
    "        \"wind_direction_80m,visibility,evapotranspiration,\"\n",
    "        \"weather_code,soil_temperature_0cm,soil_temperature_6cm,\"\n",
    "        \"rain,showers,snowfall\"\n",
    "        ),\n",
    "    \"timezone\": \"auto\",\n",
    "    \"start_date\": \"2025-05-16\",\n",
    "    \"end_date\": \"2025-05-30\"\n",
    "}\n",
    "\n",
    "response = requests.get(base_url, params=params)\n",
    "meteo_data = response.json()\n",
    "print(meteo_data)  \n",
    "\n",
    "with open('weather_data.json', 'w', encoding='utf-8') as f:\n",
    "    json.dump(meteo_data, f, ensure_ascii=False, indent=4)\n",
    "\n",
    "\n",
    "\n",
    "print(\"Status Code:\", response.status_code)  \n",
    "print(\"Response Text:\", response.text[:200])  \n"
   ]
  },
  {
   "cell_type": "markdown",
   "id": "0be924f3",
   "metadata": {},
   "source": [
    "Вычисляем среднюю температуру  avg_temperature_2m_24h"
   ]
  },
  {
   "cell_type": "code",
   "execution_count": 3,
   "id": "c3004182",
   "metadata": {},
   "outputs": [
    {
     "name": "stdout",
     "output_type": "stream",
     "text": [
      "[np.float64(9.733333333333334), np.float64(11.633333333333335), np.float64(12.958333333333334), np.float64(13.558333333333335), np.float64(16.745833333333334), np.float64(19.537499999999998), np.float64(21.0625), np.float64(22.4375), np.float64(16.775000000000002), np.float64(12.241666666666667), np.float64(9.054166666666667), np.float64(4.266666666666667), np.float64(5.033333333333333), np.float64(7.720833333333334), np.float64(13.541666666666666)]\n"
     ]
    }
   ],
   "source": [
    "import json\n",
    "import numpy as np # используется для более эффективного разбиения и вычисления avg\n",
    "\n",
    "with open('weather_data_main.json', 'r', encoding='utf-8') as f:\n",
    "    meteo_data = json.load(f)\n",
    "\n",
    "\n",
    "def calculating_avg_24(data, chunk_size):\n",
    "    '''\n",
    "    Функция для разбеения списка на подсписки длины chunk \n",
    "    и вычисления среднего значения\n",
    "    '''\n",
    "    \n",
    "    list_avg_values = []\n",
    "\n",
    "    arr = np.array(data)\n",
    "    chunks = np.array_split(arr, len(data) // chunk_size)\n",
    "\n",
    "    for chunk in chunks:\n",
    "        if len(chunk) >= (chunk_size - 1):\n",
    "            avg = chunk.mean()\n",
    "            list_avg_values.append(avg)\n",
    "            #print(list_avg_values)\n",
    "        else:\n",
    "            print(f'len_chunk = {len(chunk)}')\n",
    "    return list_avg_values\n",
    "        \n",
    "\n",
    "print(calculating_avg_24(meteo_data['hourly']['temperature_2m'], 24))"
   ]
  },
  {
   "cell_type": "code",
   "execution_count": null,
   "id": "dda7cec4",
   "metadata": {},
   "outputs": [
    {
     "name": "stdout",
     "output_type": "stream",
     "text": [
      "('temperature_2m', 'relative_humidity_2m', 'dew_point_2m', 'apparent_temperature', 'temperature_80m', 'temperature_120m', 'wind_speed_10m', 'wind_speed_80m', 'visibility', 'rain', 'showers', 'snowfall')\n",
      "<class 'tuple'>\n"
     ]
    }
   ],
   "source": [
    "final_list = (\n",
    "    \"temperature_2m\", \"relative_humidity_2m\", \"dew_point_2m\",\n",
    "    \"apparent_temperature\", \"temperature_80m\", \"temperature_120m\",\n",
    "    \"wind_speed_10m\", \"wind_speed_80m\",\"visibility\", \n",
    "    \"rain\", \"showers\", \"snowfall\"    \n",
    ")\n",
    "\n",
    "#print(final_list)\n",
    "\n",
    "for parametr in final_list:\n",
    "    final_param = calculating_avg_24(meteo_data['hourly'][parametr], 24)\n",
    "    print(final_param)\n",
    "\n",
    "print(type(final_list))"
   ]
  }
 ],
 "metadata": {
  "kernelspec": {
   "display_name": "open_meteo_etl",
   "language": "python",
   "name": "python3"
  },
  "language_info": {
   "codemirror_mode": {
    "name": "ipython",
    "version": 3
   },
   "file_extension": ".py",
   "mimetype": "text/x-python",
   "name": "python",
   "nbconvert_exporter": "python",
   "pygments_lexer": "ipython3",
   "version": "3.13.2"
  }
 },
 "nbformat": 4,
 "nbformat_minor": 5
}
